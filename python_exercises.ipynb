{
 "cells": [
  {
   "cell_type": "markdown",
   "id": "10aae82d",
   "metadata": {},
   "source": [
    "# Variables"
   ]
  },
  {
   "cell_type": "code",
   "execution_count": 6,
   "id": "a9a7a5a0",
   "metadata": {},
   "outputs": [],
   "source": [
    "## Create a firstName variable and assign the value Mario to it.\n",
    "\n",
    "firstName = 'Mario'"
   ]
  },
  {
   "cell_type": "code",
   "execution_count": 3,
   "id": "9e69eaf5",
   "metadata": {},
   "outputs": [],
   "source": [
    "## Create an age variable and assign the value 25 to it.\n",
    "\n",
    "age = 25"
   ]
  },
  {
   "cell_type": "code",
   "execution_count": 5,
   "id": "6ae39f83",
   "metadata": {},
   "outputs": [
    {
     "name": "stdout",
     "output_type": "stream",
     "text": [
      "Hello, I'm Mario!\n"
     ]
    }
   ],
   "source": [
    "## Create a sentence variable and assign the value Hello, I'm Mario! to it without using double quotes.\n",
    "\n",
    "sentence = 'Hello, I\\'m Mario!'\n",
    "\n",
    "print(sentence)"
   ]
  },
  {
   "cell_type": "code",
   "execution_count": 13,
   "id": "2967693e",
   "metadata": {},
   "outputs": [],
   "source": [
    "## Create an amount variable and assign a float value to it.\n",
    "\n",
    "amount = 2.7"
   ]
  },
  {
   "cell_type": "code",
   "execution_count": 14,
   "id": "6f7bd4ce",
   "metadata": {},
   "outputs": [],
   "source": [
    "## Create a set of 3 variables and assign True as value of each one.\n",
    "\n",
    "iam_okay = True\n",
    "iam_weird = True\n",
    "juneys_lovely = True"
   ]
  },
  {
   "cell_type": "code",
   "execution_count": 15,
   "id": "faf9f774",
   "metadata": {},
   "outputs": [],
   "source": [
    "## Remove the illegal characters in the variable 1my-first2_Name = 'Mario'.\n",
    "\n",
    "myfirst2_Name = 'Mario'"
   ]
  },
  {
   "cell_type": "code",
   "execution_count": 6,
   "id": "d13fb0f5",
   "metadata": {},
   "outputs": [
    {
     "name": "stdout",
     "output_type": "stream",
     "text": [
      "Hi,\n",
      "my name is\n",
      "John Doe\n",
      "python\n"
     ]
    }
   ],
   "source": [
    "## Write single quotes or double quotes correctly\n",
    "\n",
    "statement1 = \"\"\"Hi,\n",
    "my name is\n",
    "John Doe\"\"\"\n",
    "\n",
    "statement2 = \"python\"\n",
    "\n",
    "print (statement1)\n",
    "print (statement2)"
   ]
  },
  {
   "cell_type": "code",
   "execution_count": 9,
   "id": "86bb897f",
   "metadata": {},
   "outputs": [
    {
     "name": "stdout",
     "output_type": "stream",
     "text": [
      "2.3\n",
      "don't start what you can't finish.\n",
      "True\n"
     ]
    }
   ],
   "source": [
    "## Create 3 different variables and assign 3 different values. Write only one operation. Print them on terminal\n",
    "\n",
    "var1, var2, var3 = 2.3, \"don't start what you can't finish.\", True\n",
    "\n",
    "print(var1)\n",
    "print(var2)\n",
    "print(var3)"
   ]
  },
  {
   "cell_type": "code",
   "execution_count": 10,
   "id": "03b66fec",
   "metadata": {},
   "outputs": [
    {
     "name": "stdout",
     "output_type": "stream",
     "text": [
      "don't start what you can't finish.\n",
      "True\n",
      "2.3\n"
     ]
    }
   ],
   "source": [
    "## Swap the value of the variables\n",
    "\n",
    "var1, var2, var3 = var2, var3, var1\n",
    "\n",
    "print(var1)\n",
    "print(var2)\n",
    "print(var3)"
   ]
  },
  {
   "cell_type": "code",
   "execution_count": 11,
   "id": "ec9120d7",
   "metadata": {},
   "outputs": [
    {
     "name": "stdout",
     "output_type": "stream",
     "text": [
      "34\n"
     ]
    }
   ],
   "source": [
    "## Print the length of each variable.\n",
    "\n",
    "len(var1)\n",
    "\n",
    "print(len(var1))\n",
    "\n",
    "## The other variables are a float and a boolean, for which printing out the length results in an error."
   ]
  },
  {
   "cell_type": "code",
   "execution_count": 39,
   "id": "f303f55a",
   "metadata": {},
   "outputs": [
    {
     "name": "stdout",
     "output_type": "stream",
     "text": [
      "Hello TOM laura Hew are yeu How old are you?\n"
     ]
    }
   ],
   "source": [
    "## Modify the variables as suggested\n",
    "## a = 'hello' #capitalize\n",
    "## b = 'tom' #uppercase\n",
    "## c = 'LAURA' #lowercase\n",
    "## question = 'How are you' #change o in e\n",
    "## age_question = 'How old are you?' #use the correct method to create a string for each word\n",
    "## print(a, b, c, question, age_question)\n",
    "\n",
    "\n",
    "a = 'hello'.capitalize()\n",
    "\n",
    "b = 'tom'.upper()\n",
    "\n",
    "c = 'LAURA'.lower()\n",
    "\n",
    "question = 'How are you'.replace('o','e')\n",
    "\n",
    "age_question = 'How old are you?'\n",
    "age_question.split(' ')\n",
    "\n",
    "print(a, b, c, question, age_question)"
   ]
  },
  {
   "cell_type": "code",
   "execution_count": 41,
   "id": "14d47fc4",
   "metadata": {},
   "outputs": [
    {
     "name": "stdout",
     "output_type": "stream",
     "text": [
      "Hi, my name is Methuselah and I am 969 years old. Crazy, huh?\n"
     ]
    }
   ],
   "source": [
    "## Create two variables called name and age. \n",
    "##Then create a variable called hello and print the name and the age. Use the formatted string literal.\n",
    "\n",
    "name = 'Methuselah'\n",
    "age = 969\n",
    "\n",
    "hello = f'Hi, my name is {name} and I am {age} years old. Crazy, huh?'\n",
    "print(hello)"
   ]
  },
  {
   "cell_type": "markdown",
   "id": "5152625c",
   "metadata": {},
   "source": [
    "# Operators"
   ]
  },
  {
   "cell_type": "code",
   "execution_count": 3,
   "id": "c39a6e2f",
   "metadata": {},
   "outputs": [
    {
     "name": "stdout",
     "output_type": "stream",
     "text": [
      "False\n"
     ]
    }
   ],
   "source": [
    "## Insert the appropriate logical operator in order to print False\n",
    "## print(False ... True) # Should print False\n",
    "\n",
    "print(False and True)\n"
   ]
  },
  {
   "cell_type": "code",
   "execution_count": 2,
   "id": "17821c32",
   "metadata": {},
   "outputs": [
    {
     "name": "stdout",
     "output_type": "stream",
     "text": [
      "True\n"
     ]
    }
   ],
   "source": [
    "## Change the logical operators in order to print True\n",
    "## print(False and (0 != 0 or True)) # Should print True\n",
    "\n",
    "print(False or (0 != 0 or True))"
   ]
  },
  {
   "cell_type": "code",
   "execution_count": 4,
   "id": "d9fb5d37",
   "metadata": {},
   "outputs": [
    {
     "name": "stdout",
     "output_type": "stream",
     "text": [
      "1\n"
     ]
    }
   ],
   "source": [
    "## Print the rest of the 5/2 division\n",
    "\n",
    "print(5%2)"
   ]
  },
  {
   "cell_type": "code",
   "execution_count": 6,
   "id": "ec392bed",
   "metadata": {},
   "outputs": [
    {
     "name": "stdout",
     "output_type": "stream",
     "text": [
      "True\n"
     ]
    }
   ],
   "source": [
    "## Insert the appropriate logical operator in order to print True.\n",
    "\n",
    "print(not (\"testing\" == \"testing\" and \"Mario\" == \"Cool Guy\"))"
   ]
  },
  {
   "cell_type": "code",
   "execution_count": 9,
   "id": "ea5ae821",
   "metadata": {},
   "outputs": [
    {
     "name": "stdout",
     "output_type": "stream",
     "text": [
      "Mario Rossi\n"
     ]
    }
   ],
   "source": [
    "## Initialize and print the sentence variable using the appropriate operators.\n",
    "\n",
    "firstName = \"Mario\"\n",
    "lastName = \"Rossi\"\n",
    "\n",
    "sentence = firstName + ' ' + lastName\n",
    "\n",
    "print(sentence)"
   ]
  },
  {
   "cell_type": "code",
   "execution_count": 10,
   "id": "6b44c244",
   "metadata": {},
   "outputs": [
    {
     "name": "stdout",
     "output_type": "stream",
     "text": [
      "True\n"
     ]
    }
   ],
   "source": [
    "## Check if \"Nike\" is in brands array using the appropriate logical operator\n",
    "\n",
    "brands = [\"Adidas\", \"Nike\"]\n",
    "\n",
    "print(\"Nike\" in brands)"
   ]
  },
  {
   "cell_type": "code",
   "execution_count": 11,
   "id": "3d9b0e5c",
   "metadata": {},
   "outputs": [
    {
     "name": "stdout",
     "output_type": "stream",
     "text": [
      "True\n"
     ]
    }
   ],
   "source": [
    "## Check if \"Reebok\" is not in brands array using the appropriate logical operator\n",
    "\n",
    "brands = [\"Adidas\", \"Nike\"]\n",
    "\n",
    "print(\"Reebok\" not in brands)"
   ]
  },
  {
   "cell_type": "markdown",
   "id": "20303124",
   "metadata": {},
   "source": [
    "# Methods"
   ]
  },
  {
   "cell_type": "code",
   "execution_count": 12,
   "id": "9be9bd32",
   "metadata": {},
   "outputs": [
    {
     "name": "stdout",
     "output_type": "stream",
     "text": [
      "<class 'str'>\n",
      "<class 'bool'>\n",
      "<class 'bool'>\n",
      "<class 'int'>\n",
      "<class 'float'>\n",
      "<class 'complex'>\n",
      "<class 'complex'>\n",
      "<class 'list'>\n",
      "<class 'tuple'>\n",
      "<class 'dict'>\n",
      "<class 'set'>\n"
     ]
    }
   ],
   "source": [
    "## With type command you can see the type of a variable in python eg: type(1) \n",
    "##print each components type with this way you can see most significant data types in python\n",
    "\n",
    "print(type(\"Hello World\"))\n",
    "print(type(True))\n",
    "print(type(False))\n",
    "print(type(33))\n",
    "print(type(24.5))\n",
    "print(type(4+1j))\n",
    "print(type(4j))\n",
    "print(type([\"lion\", \"monkey\", \"dog\",\"fish\"]))\n",
    "print(type((\"lion\", \"monkey\", \"dog\",\"fish\")))\n",
    "print(type({\"name\" : \"John\", \"surname\" : \"Doe\", \"age\":22}))\n",
    "print(type({\"lion\", \"monkey\", \"dog\",\"fish\"}))"
   ]
  },
  {
   "cell_type": "code",
   "execution_count": 22,
   "id": "23fbe441",
   "metadata": {},
   "outputs": [
    {
     "name": "stdout",
     "output_type": "stream",
     "text": [
      "1.3\n",
      "2\n",
      "1j\n",
      "1\n",
      "2\n"
     ]
    }
   ],
   "source": [
    "## the number types can be converted to each other wit the int() float() complex() methods \n",
    "## also float numbers can be rounded with the method round()\n",
    "\n",
    "## convert num1 to float and assign to itself\n",
    "## convert num2 to int and assign to itself\n",
    "## convert num3 to complex and assign to itself\n",
    "## use round method for num4 and assign to itself\n",
    "## use round method for num5 and assign to itself\n",
    "## print them all\n",
    "## print their types\n",
    "\n",
    "num1 = 1.3\n",
    "num2 = 2.3\n",
    "num3 = 1j \n",
    "num4 = 1.4 \n",
    "num5 = 1.5\n",
    "\n",
    "num1 = float(num1)\n",
    "num2 = int(num2)\n",
    "num3 = complex(num3)\n",
    "num4 = round(num4)\n",
    "num5 = round(num5)\n",
    "\n",
    "print(num1)\n",
    "print(num2)\n",
    "print(num3)\n",
    "print(num4)\n",
    "print(num5)"
   ]
  },
  {
   "cell_type": "code",
   "execution_count": 4,
   "id": "407ea775",
   "metadata": {},
   "outputs": [
    {
     "data": {
      "text/plain": [
       "False"
      ]
     },
     "execution_count": 4,
     "metadata": {},
     "output_type": "execute_result"
    }
   ],
   "source": [
    "## to convert a number to string we can use str() function this is called casting\n",
    "\n",
    "## cast num1 to string and assign to num1_str\n",
    "## check the length of the string\n",
    "## get the third element of string (the one in the 3rd order)\n",
    "## get the 3-5 elements of string (both inclusive) by string slicing\n",
    "## check if num2 in string (cast if necessary)\n",
    "## check if num3 in string (cast if necessary)\n",
    "## concatenate 0 to the string from left and assign to string_with_0\n",
    "## get the characters of string_with_0 from start to position 4 (end point exclusive)\n",
    "## get the characters of string_with_0 from position 5 until the end\n",
    "## use negative indexing to reach the \"567\" string_with_0\n",
    "\n",
    "num1 = 1122334455666\n",
    "num2 = 2\n",
    "num3 = 3\n",
    "\n",
    "num1_str = str(num1)\n",
    "\n",
    "len(num1_str)\n",
    "\n",
    "num1_str[2]\n",
    "\n",
    "num1_str[2:5]\n",
    "\n",
    "type(num2)\n",
    "#num2 is an integer\n",
    "num2_str = str(num2)\n",
    "\n",
    "type(num3)\n",
    "#num3 is an integer\n",
    "num3_str = str(num3)\n",
    "\n",
    "string_with_0 = '0' + num1_str\n",
    "\n",
    "string_with_0[0:3]\n",
    "\n",
    "string_with_0[4:]\n",
    "\n",
    "string_with_0[-4:]\n",
    "\n",
    "'3' in num2_str"
   ]
  },
  {
   "cell_type": "markdown",
   "id": "f344b74c",
   "metadata": {},
   "source": [
    "# Conditions"
   ]
  },
  {
   "cell_type": "code",
   "execution_count": 1,
   "id": "76f9e64c",
   "metadata": {},
   "outputs": [
    {
     "name": "stdout",
     "output_type": "stream",
     "text": [
      "335 is greater than 66\n"
     ]
    }
   ],
   "source": [
    "##print if num1 or num2 is greater \n",
    "##num1 = 335\n",
    "##num2 = 66\n",
    "\n",
    "num1 = 335\n",
    "num2 = 66\n",
    "\n",
    "if num1 > num2:\n",
    "    print(f\"{num1} is greater than {num2}\")\n",
    "else:\n",
    "    print(f\"{num1} is not greater than {num2}\")\n"
   ]
  },
  {
   "cell_type": "code",
   "execution_count": 2,
   "id": "4d369ca0",
   "metadata": {},
   "outputs": [
    {
     "name": "stdout",
     "output_type": "stream",
     "text": [
      "66 equals to 66\n"
     ]
    }
   ],
   "source": [
    "## Conditions - Exercise 2 🐍\n",
    "\n",
    "##check if number1 is greater than number 2 and print `number1 is greater than number2` \n",
    "##then check and if number 2 is greater than number 1 and print `number2 is greater than number1` \n",
    "##finally at the end if both conditions incorrect print `number2 equals to number1`\n",
    "\n",
    "number1 = 66\n",
    "number2 = 66\n",
    "\n",
    "if number1 > number2:\n",
    "    print(f\"{number1} is greater than {number2}\")\n",
    "elif number2 > number1:\n",
    "    print(f\"{number2} is greater than {number1}\")    \n",
    "else:\n",
    "    print(f\"{number1} equals to {number2}\")\n"
   ]
  },
  {
   "cell_type": "code",
   "execution_count": 3,
   "id": "312e4db3",
   "metadata": {},
   "outputs": [
    {
     "name": "stdout",
     "output_type": "stream",
     "text": [
      "77 is greater than 42\n"
     ]
    }
   ],
   "source": [
    "## compare those 2 numbers and write `X greater than Y`\n",
    "## But be sure you are making the check for all the conditions\n",
    "\n",
    "import random\n",
    "\n",
    "number1 = random.randint(1,100)\n",
    "number2 = random.randint(1,100)\n",
    "\n",
    "# Compare the numbers to eachother\n",
    "\n",
    "if number1 > number2:\n",
    "    print(f\"{number1} is greater than {number2}\")\n",
    "elif number2 > number1:\n",
    "    print(f\"{number2} is greater than {number1}\")    \n",
    "else:\n",
    "    print(f\"{number1} equals to {number2}\")\n"
   ]
  },
  {
   "cell_type": "code",
   "execution_count": 4,
   "id": "580f7bcf",
   "metadata": {},
   "outputs": [
    {
     "name": "stdout",
     "output_type": "stream",
     "text": [
      "65's absolute valueis greater than 5's absolute value\n"
     ]
    }
   ],
   "source": [
    "# Conditions - Exercise 4\n",
    "\n",
    "##compare those 2 numbers' absolute values and write `X's absolute value greater than Y's absolute value`\n",
    "##Use `abs` function to do that   \n",
    "##eg.   \n",
    "##`abs(-5)` -> 5   \n",
    "##abs function makes all numbers positive \n",
    "\n",
    "import random\n",
    "\n",
    "number1 = random.randint(-100,100)\n",
    "number2 = random.randint(-100,100)\n",
    "\n",
    "if abs(number1) > abs(number2):\n",
    "    print(f\"{number1}'s absolute value is greater than {number2}'s absolute value\")\n",
    "elif abs(number2) > abs(number1):\n",
    "    print(f\"{number2}'s absolute valueis greater than {number1}'s absolute value\")    \n",
    "else:\n",
    "    print(f\"{number1} is equal to {number2}\")\n"
   ]
  },
  {
   "cell_type": "markdown",
   "id": "99b79399",
   "metadata": {},
   "source": [
    "# Iterators"
   ]
  },
  {
   "cell_type": "code",
   "execution_count": 10,
   "id": "f8f6fb49",
   "metadata": {},
   "outputs": [
    {
     "name": "stdout",
     "output_type": "stream",
     "text": [
      "*\n",
      "**\n",
      "***\n",
      "****\n",
      "*****\n"
     ]
    }
   ],
   "source": [
    "# Iterators - Exercise 1\n",
    "i = 1 \n",
    "while i < 6:\n",
    "    print(\"*\"*i)\n",
    "    i = i + 1"
   ]
  },
  {
   "cell_type": "code",
   "execution_count": 12,
   "id": "8f119e82",
   "metadata": {},
   "outputs": [
    {
     "name": "stdout",
     "output_type": "stream",
     "text": [
      "*\n",
      "***\n",
      "*****\n"
     ]
    }
   ],
   "source": [
    "# Iterators - Exercise 2\n",
    "for i in range(1,6):\n",
    "    if i%2==0:\n",
    "        continue\n",
    "    else:\n",
    "        print('*'*i)"
   ]
  },
  {
   "cell_type": "code",
   "execution_count": 24,
   "id": "9d8aeab8",
   "metadata": {},
   "outputs": [
    {
     "name": "stdout",
     "output_type": "stream",
     "text": [
      "coffee break\n"
     ]
    }
   ],
   "source": [
    "# Iterators - Exercise 3\n",
    "\n",
    "##check if it is time for `coffee break` if it is just break \n",
    "##to do that lets iterate through given list don't change the `COFFEE BREAK` statement\n",
    "##just find another way to do it \n",
    "\n",
    "todo = [\"exercise1\", \"exercise2\", \"exercise3\",\"coffee break\" ,\"exercise4\",\"exercise5\",\"exercise6\"]\n",
    "for x in todo:\n",
    "    if x.upper() == \"COFFEE BREAK\":\n",
    "        print(x)\n",
    "        break"
   ]
  },
  {
   "cell_type": "code",
   "execution_count": 13,
   "id": "53168032",
   "metadata": {},
   "outputs": [
    {
     "name": "stdout",
     "output_type": "stream",
     "text": [
      "lion lives on land\n",
      "monkey lives on land\n",
      "dog lives on land\n"
     ]
    }
   ],
   "source": [
    "# Iterators - Exercise 4\n",
    "\n",
    "\n",
    "##iterate each elements of `list1`,`tuple1`,`set1` and print them out \n",
    "\n",
    "##for the `dict1` iterate all elements but only print the ones who are living on land\n",
    "##in the form of `x lives in y`\n",
    "\n",
    "list1 = [\"lion\", \"monkey\", \"dog\",\"fish\"]\n",
    "tuple1 = (\"lion\", \"monkey\", \"dog\",\"fish\")\n",
    "set1 = {\"lion\", \"monkey\", \"dog\",\"fish\"}\n",
    "dict1 = {\"lion\":\"land\", \"monkey\":\"land\", \"dog\":\"land\",\"fish\":\"water\"}\n",
    "\n",
    "\n",
    "for a in list1:\n",
    "    print(a)\n",
    "\n",
    "    \n",
    "for b in tuple1:\n",
    "    print(b)\n",
    "    \n",
    "    \n",
    "for c in set1:\n",
    "    print(c)\n",
    "    \n",
    "    \n",
    "for x,y in dict1.items():\n",
    "    if y == 'land':\n",
    "        print(f'{x} lives on {y}')\n",
    "    else:\n",
    "        break"
   ]
  },
  {
   "cell_type": "code",
   "execution_count": null,
   "id": "3c3f487b",
   "metadata": {},
   "outputs": [],
   "source": []
  },
  {
   "cell_type": "code",
   "execution_count": null,
   "id": "dba2e2ab",
   "metadata": {},
   "outputs": [],
   "source": []
  }
 ],
 "metadata": {
  "kernelspec": {
   "display_name": "Python 3 (ipykernel)",
   "language": "python",
   "name": "python3"
  },
  "language_info": {
   "codemirror_mode": {
    "name": "ipython",
    "version": 3
   },
   "file_extension": ".py",
   "mimetype": "text/x-python",
   "name": "python",
   "nbconvert_exporter": "python",
   "pygments_lexer": "ipython3",
   "version": "3.9.12"
  }
 },
 "nbformat": 4,
 "nbformat_minor": 5
}
